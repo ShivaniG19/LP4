{
 "cells": [
  {
   "cell_type": "markdown",
   "id": "7bfcb686",
   "metadata": {},
   "source": [
    "Assignment No.2\n",
    "Name : Shivani Gaikwad\n",
    "Roll No. 43315\n",
    "Batch : P-11"
   ]
  },
  {
   "cell_type": "markdown",
   "id": "c8ef9c9f",
   "metadata": {},
   "source": [
    "### 1. Import the necessary packages"
   ]
  },
  {
   "cell_type": "code",
   "execution_count": 1,
   "id": "7d6e7ed6",
   "metadata": {},
   "outputs": [],
   "source": [
    "from sklearn.preprocessing import LabelBinarizer\n",
    "from sklearn.metrics import classification_report\n",
    "from tensorflow.keras.models import Sequential\n",
    "from tensorflow.keras.layers import Dense\n",
    "from tensorflow.keras.optimizers import SGD\n",
    "from tensorflow.keras.datasets import mnist\n",
    "from tensorflow.keras import backend as K\n",
    "import matplotlib.pyplot as plt\n",
    "import numpy as np\n",
    "import argparse"
   ]
  },
  {
   "cell_type": "markdown",
   "id": "0d091a26",
   "metadata": {},
   "source": [
    "### 2. Grab the MNIST Dataset"
   ]
  },
  {
   "cell_type": "code",
   "execution_count": 2,
   "id": "fd60eca8",
   "metadata": {},
   "outputs": [
    {
     "name": "stdout",
     "output_type": "stream",
     "text": [
      "Accessing mnist...\n"
     ]
    }
   ],
   "source": [
    "print(\"Accessing mnist...\")\n",
    "((trainX, trainY), (testX, testY)) = mnist.load_data()\n",
    "\n",
    "# Flatten the images\n",
    "trainX = trainX.reshape((trainX.shape[0], 28 * 28 * 1))\n",
    "testX = testX.reshape((testX.shape[0], 28 * 28 * 1))\n",
    "\n",
    "# Scale data to the range of [0, 1]\n",
    "trainX = trainX.astype(\"float32\") / 255.0\n",
    "testX = testX.astype(\"float32\") / 255.0\n",
    "\n",
    "# convert labels from integers to vectors\n",
    "le = LabelBinarizer()\n",
    "trainY = le.fit_transform(trainY)\n",
    "testY = le.fit_transform(testY)"
   ]
  },
  {
   "cell_type": "markdown",
   "id": "ae78acc9",
   "metadata": {},
   "source": [
    "### 3. Feed Forward Neural Network"
   ]
  },
  {
   "cell_type": "code",
   "execution_count": 3,
   "id": "30d91165",
   "metadata": {},
   "outputs": [],
   "source": [
    "model = Sequential()\n",
    "model.add(Dense(256, input_shape = (784,), activation = \"sigmoid\"))\n",
    "model.add(Dense(128, activation = \"sigmoid\"))\n",
    "model.add(Dense(10, activation = \"softmax\"))"
   ]
  },
  {
   "cell_type": "markdown",
   "id": "22b254ef",
   "metadata": {},
   "source": [
    "### 4. Adding SGD Optimizer and training "
   ]
  },
  {
   "cell_type": "code",
   "execution_count": 4,
   "id": "ee21e84b",
   "metadata": {},
   "outputs": [
    {
     "name": "stdout",
     "output_type": "stream",
     "text": [
      "Epoch 1/100\n",
      "469/469 [==============================] - 3s 5ms/step - loss: 2.2819 - accuracy: 0.2064 - val_loss: 2.2359 - val_accuracy: 0.2513\n",
      "Epoch 2/100\n",
      "469/469 [==============================] - 2s 5ms/step - loss: 2.1996 - accuracy: 0.4067 - val_loss: 2.1550 - val_accuracy: 0.5053\n",
      "Epoch 3/100\n",
      "469/469 [==============================] - 2s 5ms/step - loss: 2.1050 - accuracy: 0.5542 - val_loss: 2.0399 - val_accuracy: 0.6036\n",
      "Epoch 4/100\n",
      "469/469 [==============================] - 2s 5ms/step - loss: 1.9683 - accuracy: 0.6199 - val_loss: 1.8732 - val_accuracy: 0.7030\n",
      "Epoch 5/100\n",
      "469/469 [==============================] - 3s 5ms/step - loss: 1.7768 - accuracy: 0.6689 - val_loss: 1.6548 - val_accuracy: 0.6564\n",
      "Epoch 6/100\n",
      "469/469 [==============================] - 2s 5ms/step - loss: 1.5479 - accuracy: 0.6983 - val_loss: 1.4189 - val_accuracy: 0.7285\n",
      "Epoch 7/100\n",
      "469/469 [==============================] - 2s 5ms/step - loss: 1.3271 - accuracy: 0.7339 - val_loss: 1.2144 - val_accuracy: 0.7558\n",
      "Epoch 8/100\n",
      "469/469 [==============================] - 2s 5ms/step - loss: 1.1461 - accuracy: 0.7601 - val_loss: 1.0559 - val_accuracy: 0.7688\n",
      "Epoch 9/100\n",
      "469/469 [==============================] - 2s 5ms/step - loss: 1.0080 - accuracy: 0.7805 - val_loss: 0.9362 - val_accuracy: 0.7968\n",
      "Epoch 10/100\n",
      "469/469 [==============================] - 3s 6ms/step - loss: 0.9029 - accuracy: 0.7973 - val_loss: 0.8444 - val_accuracy: 0.8081\n",
      "Epoch 11/100\n",
      "469/469 [==============================] - 2s 5ms/step - loss: 0.8211 - accuracy: 0.8118 - val_loss: 0.7716 - val_accuracy: 0.8211\n",
      "Epoch 12/100\n",
      "469/469 [==============================] - 2s 5ms/step - loss: 0.7559 - accuracy: 0.8227 - val_loss: 0.7130 - val_accuracy: 0.8304\n",
      "Epoch 13/100\n",
      "469/469 [==============================] - 2s 5ms/step - loss: 0.7024 - accuracy: 0.8322 - val_loss: 0.6647 - val_accuracy: 0.8393\n",
      "Epoch 14/100\n",
      "469/469 [==============================] - 2s 5ms/step - loss: 0.6582 - accuracy: 0.8402 - val_loss: 0.6242 - val_accuracy: 0.8473\n",
      "Epoch 15/100\n",
      "469/469 [==============================] - 2s 5ms/step - loss: 0.6211 - accuracy: 0.8468 - val_loss: 0.5898 - val_accuracy: 0.8544\n",
      "Epoch 16/100\n",
      "469/469 [==============================] - 2s 5ms/step - loss: 0.5896 - accuracy: 0.8525 - val_loss: 0.5607 - val_accuracy: 0.8596\n",
      "Epoch 17/100\n",
      "469/469 [==============================] - 2s 5ms/step - loss: 0.5627 - accuracy: 0.8576 - val_loss: 0.5358 - val_accuracy: 0.8633\n",
      "Epoch 18/100\n",
      "469/469 [==============================] - 2s 5ms/step - loss: 0.5395 - accuracy: 0.8620 - val_loss: 0.5142 - val_accuracy: 0.8669\n",
      "Epoch 19/100\n",
      "469/469 [==============================] - 2s 5ms/step - loss: 0.5194 - accuracy: 0.8656 - val_loss: 0.4952 - val_accuracy: 0.8701\n",
      "Epoch 20/100\n",
      "469/469 [==============================] - 2s 5ms/step - loss: 0.5017 - accuracy: 0.8685 - val_loss: 0.4789 - val_accuracy: 0.8737\n",
      "Epoch 21/100\n",
      "469/469 [==============================] - 2s 5ms/step - loss: 0.4861 - accuracy: 0.8719 - val_loss: 0.4643 - val_accuracy: 0.8758\n",
      "Epoch 22/100\n",
      "469/469 [==============================] - 2s 5ms/step - loss: 0.4723 - accuracy: 0.8750 - val_loss: 0.4508 - val_accuracy: 0.8801\n",
      "Epoch 23/100\n",
      "469/469 [==============================] - 2s 5ms/step - loss: 0.4599 - accuracy: 0.8773 - val_loss: 0.4396 - val_accuracy: 0.8816\n",
      "Epoch 24/100\n",
      "469/469 [==============================] - 2s 5ms/step - loss: 0.4489 - accuracy: 0.8793 - val_loss: 0.4289 - val_accuracy: 0.8844\n",
      "Epoch 25/100\n",
      "469/469 [==============================] - 2s 5ms/step - loss: 0.4389 - accuracy: 0.8815 - val_loss: 0.4194 - val_accuracy: 0.8843\n",
      "Epoch 26/100\n",
      "469/469 [==============================] - 2s 5ms/step - loss: 0.4298 - accuracy: 0.8834 - val_loss: 0.4113 - val_accuracy: 0.8863\n",
      "Epoch 27/100\n",
      "469/469 [==============================] - 2s 5ms/step - loss: 0.4216 - accuracy: 0.8853 - val_loss: 0.4033 - val_accuracy: 0.8881\n",
      "Epoch 28/100\n",
      "469/469 [==============================] - 2s 5ms/step - loss: 0.4140 - accuracy: 0.8867 - val_loss: 0.3960 - val_accuracy: 0.8898\n",
      "Epoch 29/100\n",
      "469/469 [==============================] - 2s 5ms/step - loss: 0.4072 - accuracy: 0.8880 - val_loss: 0.3900 - val_accuracy: 0.8908\n",
      "Epoch 30/100\n",
      "469/469 [==============================] - 2s 5ms/step - loss: 0.4008 - accuracy: 0.8896 - val_loss: 0.3840 - val_accuracy: 0.8917\n",
      "Epoch 31/100\n",
      "469/469 [==============================] - 2s 5ms/step - loss: 0.3949 - accuracy: 0.8907 - val_loss: 0.3788 - val_accuracy: 0.8933\n",
      "Epoch 32/100\n",
      "469/469 [==============================] - 2s 5ms/step - loss: 0.3895 - accuracy: 0.8912 - val_loss: 0.3734 - val_accuracy: 0.8961\n",
      "Epoch 33/100\n",
      "469/469 [==============================] - 2s 5ms/step - loss: 0.3844 - accuracy: 0.8927 - val_loss: 0.3685 - val_accuracy: 0.8969\n",
      "Epoch 34/100\n",
      "469/469 [==============================] - 2s 5ms/step - loss: 0.3796 - accuracy: 0.8938 - val_loss: 0.3643 - val_accuracy: 0.8976\n",
      "Epoch 35/100\n",
      "469/469 [==============================] - 2s 5ms/step - loss: 0.3752 - accuracy: 0.8946 - val_loss: 0.3596 - val_accuracy: 0.8987\n",
      "Epoch 36/100\n",
      "469/469 [==============================] - 2s 5ms/step - loss: 0.3710 - accuracy: 0.8954 - val_loss: 0.3558 - val_accuracy: 0.8994\n",
      "Epoch 37/100\n",
      "469/469 [==============================] - 2s 4ms/step - loss: 0.3672 - accuracy: 0.8963 - val_loss: 0.3527 - val_accuracy: 0.8999\n",
      "Epoch 38/100\n",
      "469/469 [==============================] - 2s 4ms/step - loss: 0.3635 - accuracy: 0.8973 - val_loss: 0.3491 - val_accuracy: 0.9011\n",
      "Epoch 39/100\n",
      "469/469 [==============================] - 2s 4ms/step - loss: 0.3599 - accuracy: 0.8976 - val_loss: 0.3457 - val_accuracy: 0.9012\n",
      "Epoch 40/100\n",
      "469/469 [==============================] - 2s 5ms/step - loss: 0.3566 - accuracy: 0.8984 - val_loss: 0.3429 - val_accuracy: 0.9026\n",
      "Epoch 41/100\n",
      "469/469 [==============================] - 2s 5ms/step - loss: 0.3534 - accuracy: 0.8992 - val_loss: 0.3397 - val_accuracy: 0.9033\n",
      "Epoch 42/100\n",
      "469/469 [==============================] - 2s 4ms/step - loss: 0.3504 - accuracy: 0.8998 - val_loss: 0.3364 - val_accuracy: 0.9038\n",
      "Epoch 43/100\n",
      "469/469 [==============================] - 2s 5ms/step - loss: 0.3476 - accuracy: 0.9006 - val_loss: 0.3339 - val_accuracy: 0.9037\n",
      "Epoch 44/100\n",
      "469/469 [==============================] - 2s 5ms/step - loss: 0.3448 - accuracy: 0.9012 - val_loss: 0.3313 - val_accuracy: 0.9048\n",
      "Epoch 45/100\n",
      "469/469 [==============================] - 2s 5ms/step - loss: 0.3422 - accuracy: 0.9019 - val_loss: 0.3287 - val_accuracy: 0.9047\n",
      "Epoch 46/100\n",
      "469/469 [==============================] - 2s 5ms/step - loss: 0.3395 - accuracy: 0.9025 - val_loss: 0.3262 - val_accuracy: 0.9052\n",
      "Epoch 47/100\n",
      "469/469 [==============================] - 2s 5ms/step - loss: 0.3371 - accuracy: 0.9032 - val_loss: 0.3241 - val_accuracy: 0.9058\n",
      "Epoch 48/100\n",
      "469/469 [==============================] - 2s 4ms/step - loss: 0.3348 - accuracy: 0.9039 - val_loss: 0.3220 - val_accuracy: 0.9065\n",
      "Epoch 49/100\n",
      "469/469 [==============================] - 2s 5ms/step - loss: 0.3326 - accuracy: 0.9040 - val_loss: 0.3202 - val_accuracy: 0.9068\n",
      "Epoch 50/100\n",
      "469/469 [==============================] - 2s 5ms/step - loss: 0.3304 - accuracy: 0.9050 - val_loss: 0.3183 - val_accuracy: 0.9080\n",
      "Epoch 51/100\n",
      "469/469 [==============================] - 2s 5ms/step - loss: 0.3283 - accuracy: 0.9055 - val_loss: 0.3166 - val_accuracy: 0.9088\n",
      "Epoch 52/100\n",
      "469/469 [==============================] - 2s 5ms/step - loss: 0.3262 - accuracy: 0.9061 - val_loss: 0.3142 - val_accuracy: 0.9085\n",
      "Epoch 53/100\n",
      "469/469 [==============================] - 3s 6ms/step - loss: 0.3243 - accuracy: 0.9066 - val_loss: 0.3124 - val_accuracy: 0.9099\n",
      "Epoch 54/100\n",
      "469/469 [==============================] - 3s 6ms/step - loss: 0.3223 - accuracy: 0.9072 - val_loss: 0.3105 - val_accuracy: 0.9105\n",
      "Epoch 55/100\n",
      "469/469 [==============================] - 3s 5ms/step - loss: 0.3204 - accuracy: 0.9080 - val_loss: 0.3089 - val_accuracy: 0.9100\n",
      "Epoch 56/100\n",
      "469/469 [==============================] - 2s 5ms/step - loss: 0.3187 - accuracy: 0.9083 - val_loss: 0.3071 - val_accuracy: 0.9112\n",
      "Epoch 57/100\n",
      "469/469 [==============================] - 2s 5ms/step - loss: 0.3169 - accuracy: 0.9090 - val_loss: 0.3057 - val_accuracy: 0.9115\n",
      "Epoch 58/100\n",
      "469/469 [==============================] - 2s 4ms/step - loss: 0.3152 - accuracy: 0.9093 - val_loss: 0.3043 - val_accuracy: 0.9118\n",
      "Epoch 59/100\n",
      "469/469 [==============================] - 2s 4ms/step - loss: 0.3134 - accuracy: 0.9100 - val_loss: 0.3024 - val_accuracy: 0.9127\n",
      "Epoch 60/100\n",
      "469/469 [==============================] - 2s 5ms/step - loss: 0.3118 - accuracy: 0.9101 - val_loss: 0.3007 - val_accuracy: 0.9132\n",
      "Epoch 61/100\n",
      "469/469 [==============================] - 2s 5ms/step - loss: 0.3102 - accuracy: 0.9107 - val_loss: 0.2996 - val_accuracy: 0.9134\n",
      "Epoch 62/100\n",
      "469/469 [==============================] - 2s 4ms/step - loss: 0.3088 - accuracy: 0.9111 - val_loss: 0.2984 - val_accuracy: 0.9136\n",
      "Epoch 63/100\n",
      "469/469 [==============================] - 2s 4ms/step - loss: 0.3071 - accuracy: 0.9116 - val_loss: 0.2968 - val_accuracy: 0.9141\n",
      "Epoch 64/100\n",
      "469/469 [==============================] - 2s 5ms/step - loss: 0.3057 - accuracy: 0.9118 - val_loss: 0.2954 - val_accuracy: 0.9148\n",
      "Epoch 65/100\n",
      "469/469 [==============================] - 2s 4ms/step - loss: 0.3042 - accuracy: 0.9125 - val_loss: 0.2938 - val_accuracy: 0.9153\n",
      "Epoch 66/100\n",
      "469/469 [==============================] - 2s 4ms/step - loss: 0.3029 - accuracy: 0.9125 - val_loss: 0.2932 - val_accuracy: 0.9151\n",
      "Epoch 67/100\n",
      "469/469 [==============================] - 2s 5ms/step - loss: 0.3015 - accuracy: 0.9132 - val_loss: 0.2913 - val_accuracy: 0.9154\n",
      "Epoch 68/100\n",
      "469/469 [==============================] - 2s 5ms/step - loss: 0.3001 - accuracy: 0.9135 - val_loss: 0.2900 - val_accuracy: 0.9161\n",
      "Epoch 69/100\n",
      "469/469 [==============================] - 2s 5ms/step - loss: 0.2988 - accuracy: 0.9136 - val_loss: 0.2892 - val_accuracy: 0.9164\n",
      "Epoch 70/100\n",
      "469/469 [==============================] - 3s 6ms/step - loss: 0.2974 - accuracy: 0.9140 - val_loss: 0.2879 - val_accuracy: 0.9166\n",
      "Epoch 71/100\n",
      "469/469 [==============================] - 2s 5ms/step - loss: 0.2961 - accuracy: 0.9144 - val_loss: 0.2871 - val_accuracy: 0.9162\n",
      "Epoch 72/100\n",
      "469/469 [==============================] - 2s 5ms/step - loss: 0.2948 - accuracy: 0.9150 - val_loss: 0.2855 - val_accuracy: 0.9171\n",
      "Epoch 73/100\n",
      "469/469 [==============================] - 2s 5ms/step - loss: 0.2935 - accuracy: 0.9152 - val_loss: 0.2846 - val_accuracy: 0.9177\n",
      "Epoch 74/100\n",
      "469/469 [==============================] - 2s 5ms/step - loss: 0.2924 - accuracy: 0.9158 - val_loss: 0.2829 - val_accuracy: 0.9177\n",
      "Epoch 75/100\n",
      "469/469 [==============================] - 2s 5ms/step - loss: 0.2911 - accuracy: 0.9158 - val_loss: 0.2823 - val_accuracy: 0.9186\n",
      "Epoch 76/100\n",
      "469/469 [==============================] - 2s 5ms/step - loss: 0.2899 - accuracy: 0.9162 - val_loss: 0.2812 - val_accuracy: 0.9185\n",
      "Epoch 77/100\n",
      "469/469 [==============================] - 2s 5ms/step - loss: 0.2888 - accuracy: 0.9165 - val_loss: 0.2801 - val_accuracy: 0.9188\n",
      "Epoch 78/100\n",
      "469/469 [==============================] - 2s 5ms/step - loss: 0.2877 - accuracy: 0.9171 - val_loss: 0.2787 - val_accuracy: 0.9190\n",
      "Epoch 79/100\n",
      "469/469 [==============================] - 2s 5ms/step - loss: 0.2865 - accuracy: 0.9169 - val_loss: 0.2779 - val_accuracy: 0.9193\n",
      "Epoch 80/100\n",
      "469/469 [==============================] - 2s 5ms/step - loss: 0.2853 - accuracy: 0.9178 - val_loss: 0.2771 - val_accuracy: 0.9188\n",
      "Epoch 81/100\n",
      "469/469 [==============================] - 2s 5ms/step - loss: 0.2843 - accuracy: 0.9178 - val_loss: 0.2762 - val_accuracy: 0.9195\n",
      "Epoch 82/100\n",
      "469/469 [==============================] - 3s 6ms/step - loss: 0.2832 - accuracy: 0.9183 - val_loss: 0.2748 - val_accuracy: 0.9206\n",
      "Epoch 83/100\n",
      "469/469 [==============================] - 3s 6ms/step - loss: 0.2821 - accuracy: 0.9182 - val_loss: 0.2742 - val_accuracy: 0.9197\n",
      "Epoch 84/100\n",
      "469/469 [==============================] - 2s 5ms/step - loss: 0.2810 - accuracy: 0.9189 - val_loss: 0.2731 - val_accuracy: 0.9204\n",
      "Epoch 85/100\n",
      "469/469 [==============================] - 2s 5ms/step - loss: 0.2800 - accuracy: 0.9188 - val_loss: 0.2721 - val_accuracy: 0.9211\n",
      "Epoch 86/100\n",
      "469/469 [==============================] - 2s 5ms/step - loss: 0.2790 - accuracy: 0.9192 - val_loss: 0.2710 - val_accuracy: 0.9212\n",
      "Epoch 87/100\n",
      "469/469 [==============================] - 2s 4ms/step - loss: 0.2779 - accuracy: 0.9192 - val_loss: 0.2706 - val_accuracy: 0.9211\n",
      "Epoch 88/100\n",
      "469/469 [==============================] - 2s 5ms/step - loss: 0.2769 - accuracy: 0.9202 - val_loss: 0.2694 - val_accuracy: 0.9216\n",
      "Epoch 89/100\n",
      "469/469 [==============================] - 3s 6ms/step - loss: 0.2759 - accuracy: 0.9201 - val_loss: 0.2687 - val_accuracy: 0.9228\n",
      "Epoch 90/100\n",
      "469/469 [==============================] - 2s 5ms/step - loss: 0.2749 - accuracy: 0.9204 - val_loss: 0.2676 - val_accuracy: 0.9219\n",
      "Epoch 91/100\n",
      "469/469 [==============================] - 2s 5ms/step - loss: 0.2739 - accuracy: 0.9210 - val_loss: 0.2672 - val_accuracy: 0.9216\n",
      "Epoch 92/100\n",
      "469/469 [==============================] - 2s 4ms/step - loss: 0.2730 - accuracy: 0.9210 - val_loss: 0.2661 - val_accuracy: 0.9220\n",
      "Epoch 93/100\n",
      "469/469 [==============================] - 2s 5ms/step - loss: 0.2721 - accuracy: 0.9207 - val_loss: 0.2650 - val_accuracy: 0.9222\n",
      "Epoch 94/100\n",
      "469/469 [==============================] - 2s 5ms/step - loss: 0.2710 - accuracy: 0.9212 - val_loss: 0.2642 - val_accuracy: 0.9236\n",
      "Epoch 95/100\n",
      "469/469 [==============================] - 2s 5ms/step - loss: 0.2701 - accuracy: 0.9216 - val_loss: 0.2636 - val_accuracy: 0.9222\n",
      "Epoch 96/100\n",
      "469/469 [==============================] - 2s 5ms/step - loss: 0.2691 - accuracy: 0.9217 - val_loss: 0.2627 - val_accuracy: 0.9238\n",
      "Epoch 97/100\n",
      "469/469 [==============================] - 3s 6ms/step - loss: 0.2683 - accuracy: 0.9219 - val_loss: 0.2617 - val_accuracy: 0.9237\n",
      "Epoch 98/100\n",
      "469/469 [==============================] - 2s 5ms/step - loss: 0.2674 - accuracy: 0.9224 - val_loss: 0.2615 - val_accuracy: 0.9239\n",
      "Epoch 99/100\n",
      "469/469 [==============================] - 2s 5ms/step - loss: 0.2664 - accuracy: 0.9224 - val_loss: 0.2604 - val_accuracy: 0.9240\n",
      "Epoch 100/100\n",
      "469/469 [==============================] - 2s 5ms/step - loss: 0.2655 - accuracy: 0.9229 - val_loss: 0.2600 - val_accuracy: 0.9239\n"
     ]
    }
   ],
   "source": [
    "# Adding optimizer\n",
    "# Learning rate --> 0.01\n",
    "sgd = SGD(0.01)\n",
    "\n",
    "# Fitting and training\n",
    "model.compile(loss=\"categorical_crossentropy\", optimizer=sgd, metrics=[\"accuracy\"])\n",
    "H = model.fit(trainX, trainY, validation_data=(testX, testY), epochs=100, batch_size=128)"
   ]
  },
  {
   "cell_type": "code",
   "execution_count": 5,
   "id": "c08341e0",
   "metadata": {},
   "outputs": [
    {
     "name": "stdout",
     "output_type": "stream",
     "text": [
      "Model: \"sequential\"\n",
      "_________________________________________________________________\n",
      " Layer (type)                Output Shape              Param #   \n",
      "=================================================================\n",
      " dense (Dense)               (None, 256)               200960    \n",
      "                                                                 \n",
      " dense_1 (Dense)             (None, 128)               32896     \n",
      "                                                                 \n",
      " dense_2 (Dense)             (None, 10)                1290      \n",
      "                                                                 \n",
      "=================================================================\n",
      "Total params: 235,146\n",
      "Trainable params: 235,146\n",
      "Non-trainable params: 0\n",
      "_________________________________________________________________\n",
      "None\n"
     ]
    }
   ],
   "source": [
    "print(model.summary())"
   ]
  },
  {
   "cell_type": "markdown",
   "id": "718aa27d",
   "metadata": {},
   "source": [
    "### 5. Evaluating the model"
   ]
  },
  {
   "cell_type": "code",
   "execution_count": 6,
   "id": "abc31bab",
   "metadata": {},
   "outputs": [
    {
     "name": "stdout",
     "output_type": "stream",
     "text": [
      "              precision    recall  f1-score   support\n",
      "\n",
      "           0       0.94      0.98      0.96       980\n",
      "           1       0.97      0.98      0.97      1135\n",
      "           2       0.92      0.91      0.91      1032\n",
      "           3       0.90      0.91      0.91      1010\n",
      "           4       0.92      0.93      0.92       982\n",
      "           5       0.91      0.86      0.88       892\n",
      "           6       0.93      0.94      0.94       958\n",
      "           7       0.93      0.92      0.93      1028\n",
      "           8       0.89      0.90      0.89       974\n",
      "           9       0.91      0.90      0.91      1009\n",
      "\n",
      "    accuracy                           0.92     10000\n",
      "   macro avg       0.92      0.92      0.92     10000\n",
      "weighted avg       0.92      0.92      0.92     10000\n",
      "\n"
     ]
    }
   ],
   "source": [
    "predictions = model.predict(testX, batch_size=128)\n",
    "print(classification_report(testY.argmax(axis=1), predictions.argmax(axis=1), target_names=[str(x) for x in le.classes_]))"
   ]
  },
  {
   "cell_type": "markdown",
   "id": "b7b230e4",
   "metadata": {},
   "source": [
    "### 6. Plotting training loss and accuracy"
   ]
  },
  {
   "cell_type": "code",
   "execution_count": 7,
   "id": "11362553",
   "metadata": {},
   "outputs": [
    {
     "data": {
      "text/plain": [
       "<matplotlib.legend.Legend at 0x1966024e850>"
      ]
     },
     "execution_count": 7,
     "metadata": {},
     "output_type": "execute_result"
    },
    {
     "data": {
      "image/png": "[encoded data removed]",
      "text/plain": [
       "<Figure size 432x288 with 1 Axes>"
      ]
     },
     "metadata": {},
     "output_type": "display_data"
    }
   ],
   "source": [
    "plt.style.use(\"ggplot\")\n",
    "plt.figure()\n",
    "plt.plot(np.arange(0, 100), H.history[\"loss\"], label=\"train_loss\")\n",
    "plt.plot(np.arange(0, 100), H.history[\"val_loss\"], label=\"val_loss\")\n",
    "plt.plot(np.arange(0, 100), H.history[\"accuracy\"], label=\"train_acc\")\n",
    "plt.plot(np.arange(0, 100), H.history[\"val_accuracy\"], label=\"val_acc\")\n",
    "plt.title(\"Training Loss and Accuracy\")\n",
    "plt.xlabel(\"Epoch #\")\n",
    "plt.ylabel(\"Loss/Accuracy\")\n",
    "plt.legend()"
   ]
  },
  {
   "cell_type": "code",
   "execution_count": null,
   "id": "238a4591",
   "metadata": {},
   "outputs": [],
   "source": []
  }
 ],
 "metadata": {
  "kernelspec": {
   "display_name": "Python 3",
   "language": "python",
   "name": "python3"
  },
  "language_info": {
   "codemirror_mode": {
    "name": "ipython",
    "version": 3
   },
   "file_extension": ".py",
   "mimetype": "text/x-python",
   "name": "python",
   "nbconvert_exporter": "python",
   "pygments_lexer": "ipython3",
   "version": "3.8.8"
  }
 },
 "nbformat": 4,
 "nbformat_minor": 5
}
