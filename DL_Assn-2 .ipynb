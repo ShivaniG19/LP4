{
 "cells": [
  {
   "cell_type": "markdown",
   "id": "7bfcb686",
   "metadata": {},
   "source": [
    "Assignment No.2\n",
    "Name : Shivani Gaikwad\n",
    "Roll No. 43315\n",
    "Batch : P-11"
   ]
  },
  {
   "cell_type": "markdown",
   "id": "c8ef9c9f",
   "metadata": {},
   "source": [
    "### 1. Import the necessary packages"
   ]
  },
  {
   "cell_type": "code",
   "execution_count": 1,
   "id": "7d6e7ed6",
   "metadata": {},
   "outputs": [],
   "source": [
    "from sklearn.preprocessing import LabelBinarizer\n",
    "from sklearn.metrics import classification_report\n",
    "from tensorflow.keras.models import Sequential\n",
    "from tensorflow.keras.layers import Dense\n",
    "from tensorflow.keras.optimizers import SGD\n",
    "from tensorflow.keras.datasets import mnist\n",
    "from tensorflow.keras import backend as K\n",
    "import matplotlib.pyplot as plt\n",
    "import numpy as np\n",
    "import argparse"
   ]
  },
  {
   "cell_type": "markdown",
   "id": "0d091a26",
   "metadata": {},
   "source": [
    "### 2. Grab the MNIST Dataset"
   ]
  },
  {
   "cell_type": "code",
   "execution_count": 2,
   "id": "fd60eca8",
   "metadata": {},
   "outputs": [
    {
     "name": "stdout",
     "output_type": "stream",
     "text": [
      "Accessing mnist...\n"
     ]
    }
   ],
   "source": [
    "print(\"Accessing mnist...\")\n",
    "((trainX, trainY), (testX, testY)) = mnist.load_data()\n",
    "\n",
    "# Flatten the images\n",
    "trainX = trainX.reshape((trainX.shape[0], 28 * 28 * 1))\n",
    "testX = testX.reshape((testX.shape[0], 28 * 28 * 1))\n",
    "\n",
    "# Scale data to the range of [0, 1]\n",
    "trainX = trainX.astype(\"float32\") / 255.0\n",
    "testX = testX.astype(\"float32\") / 255.0\n",
    "\n",
    "# convert labels from integers to vectors\n",
    "le = LabelBinarizer()\n",
    "trainY = le.fit_transform(trainY)\n",
    "testY = le.fit_transform(testY)"
   ]
  },
  {
   "cell_type": "markdown",
   "id": "ae78acc9",
   "metadata": {},
   "source": [
    "### 3. Feed Forward Neural Network"
   ]
  },
  {
   "cell_type": "code",
   "execution_count": 3,
   "id": "30d91165",
   "metadata": {},
   "outputs": [],
   "source": [
    "model = Sequential()\n",
    "model.add(Dense(256, input_shape = (784,), activation = \"sigmoid\"))\n",
    "model.add(Dense(128, activation = \"sigmoid\"))\n",
    "model.add(Dense(10, activation = \"softmax\"))"
   ]
  },
  {
   "cell_type": "markdown",
   "id": "22b254ef",
   "metadata": {},
   "source": [
    "### 4. Adding SGD Optimizer and training "
   ]
  },
  {
   "cell_type": "code",
   "execution_count": 4,
   "id": "ee21e84b",
   "metadata": {},
   "outputs": [
    {
     "name": "stdout",
     "output_type": "stream",
     "text": [
      "Epoch 1/100\n",
      "469/469 [==============================] - 4s 7ms/step - loss: 2.2860 - accuracy: 0.1898 - val_loss: 2.2463 - val_accuracy: 0.2754\n",
      "Epoch 2/100\n",
      "469/469 [==============================] - 3s 6ms/step - loss: 2.2150 - accuracy: 0.3730 - val_loss: 2.1778 - val_accuracy: 0.4909\n",
      "Epoch 3/100\n",
      "469/469 [==============================] - 3s 6ms/step - loss: 2.1346 - accuracy: 0.5112 - val_loss: 2.0810 - val_accuracy: 0.5353\n",
      "Epoch 4/100\n",
      "469/469 [==============================] - 3s 7ms/step - loss: 2.0180 - accuracy: 0.5801 - val_loss: 1.9358 - val_accuracy: 0.6154\n",
      "Epoch 5/100\n",
      "469/469 [==============================] - 3s 6ms/step - loss: 1.8491 - accuracy: 0.6244 - val_loss: 1.7371 - val_accuracy: 0.6659\n",
      "Epoch 6/100\n",
      "469/469 [==============================] - 3s 6ms/step - loss: 1.6365 - accuracy: 0.6659 - val_loss: 1.5114 - val_accuracy: 0.6852\n",
      "Epoch 7/100\n",
      "469/469 [==============================] - 3s 6ms/step - loss: 1.4193 - accuracy: 0.7042 - val_loss: 1.3049 - val_accuracy: 0.7183\n",
      "Epoch 8/100\n",
      "469/469 [==============================] - 3s 6ms/step - loss: 1.2319 - accuracy: 0.7355 - val_loss: 1.1365 - val_accuracy: 0.7678\n",
      "Epoch 9/100\n",
      "469/469 [==============================] - 3s 6ms/step - loss: 1.0832 - accuracy: 0.7642 - val_loss: 1.0055 - val_accuracy: 0.7756\n",
      "Epoch 10/100\n",
      "469/469 [==============================] - 3s 6ms/step - loss: 0.9669 - accuracy: 0.7837 - val_loss: 0.9024 - val_accuracy: 0.7980\n",
      "Epoch 11/100\n",
      "469/469 [==============================] - 3s 6ms/step - loss: 0.8753 - accuracy: 0.8007 - val_loss: 0.8199 - val_accuracy: 0.8138\n",
      "Epoch 12/100\n",
      "469/469 [==============================] - 3s 6ms/step - loss: 0.8014 - accuracy: 0.8128 - val_loss: 0.7540 - val_accuracy: 0.8218\n",
      "Epoch 13/100\n",
      "469/469 [==============================] - 3s 6ms/step - loss: 0.7412 - accuracy: 0.8238 - val_loss: 0.6993 - val_accuracy: 0.8307\n",
      "Epoch 14/100\n",
      "469/469 [==============================] - 3s 6ms/step - loss: 0.6916 - accuracy: 0.8313 - val_loss: 0.6544 - val_accuracy: 0.8377\n",
      "Epoch 15/100\n",
      "469/469 [==============================] - 3s 7ms/step - loss: 0.6502 - accuracy: 0.8382 - val_loss: 0.6165 - val_accuracy: 0.8447\n",
      "Epoch 16/100\n",
      "469/469 [==============================] - 3s 6ms/step - loss: 0.6153 - accuracy: 0.8451 - val_loss: 0.5849 - val_accuracy: 0.8544\n",
      "Epoch 17/100\n",
      "469/469 [==============================] - 3s 6ms/step - loss: 0.5857 - accuracy: 0.8510 - val_loss: 0.5567 - val_accuracy: 0.8590\n",
      "Epoch 18/100\n",
      "469/469 [==============================] - 3s 6ms/step - loss: 0.5600 - accuracy: 0.8565 - val_loss: 0.5333 - val_accuracy: 0.8623\n",
      "Epoch 19/100\n",
      "469/469 [==============================] - 3s 6ms/step - loss: 0.5377 - accuracy: 0.8609 - val_loss: 0.5129 - val_accuracy: 0.8673\n",
      "Epoch 20/100\n",
      "469/469 [==============================] - 3s 6ms/step - loss: 0.5182 - accuracy: 0.8652 - val_loss: 0.4944 - val_accuracy: 0.8720\n",
      "Epoch 21/100\n",
      "469/469 [==============================] - 3s 7ms/step - loss: 0.5009 - accuracy: 0.8693 - val_loss: 0.4787 - val_accuracy: 0.8746\n",
      "Epoch 22/100\n",
      "469/469 [==============================] - 3s 6ms/step - loss: 0.4856 - accuracy: 0.8724 - val_loss: 0.4636 - val_accuracy: 0.8788\n",
      "Epoch 23/100\n",
      "469/469 [==============================] - 3s 6ms/step - loss: 0.4719 - accuracy: 0.8752 - val_loss: 0.4514 - val_accuracy: 0.8816\n",
      "Epoch 24/100\n",
      "469/469 [==============================] - 3s 6ms/step - loss: 0.4596 - accuracy: 0.8780 - val_loss: 0.4397 - val_accuracy: 0.8832\n",
      "Epoch 25/100\n",
      "469/469 [==============================] - 3s 6ms/step - loss: 0.4486 - accuracy: 0.8803 - val_loss: 0.4290 - val_accuracy: 0.8849\n",
      "Epoch 26/100\n",
      "469/469 [==============================] - 3s 7ms/step - loss: 0.4385 - accuracy: 0.8826 - val_loss: 0.4196 - val_accuracy: 0.8875\n",
      "Epoch 27/100\n",
      "469/469 [==============================] - 3s 6ms/step - loss: 0.4294 - accuracy: 0.8846 - val_loss: 0.4114 - val_accuracy: 0.8889\n",
      "Epoch 28/100\n",
      "469/469 [==============================] - 3s 6ms/step - loss: 0.4211 - accuracy: 0.8860 - val_loss: 0.4037 - val_accuracy: 0.8906\n",
      "Epoch 29/100\n",
      "469/469 [==============================] - 3s 6ms/step - loss: 0.4135 - accuracy: 0.8880 - val_loss: 0.3961 - val_accuracy: 0.8914\n",
      "Epoch 30/100\n",
      "469/469 [==============================] - 3s 6ms/step - loss: 0.4065 - accuracy: 0.8895 - val_loss: 0.3894 - val_accuracy: 0.8941\n",
      "Epoch 31/100\n",
      "469/469 [==============================] - 3s 6ms/step - loss: 0.4002 - accuracy: 0.8907 - val_loss: 0.3834 - val_accuracy: 0.8947\n",
      "Epoch 32/100\n",
      "469/469 [==============================] - 3s 7ms/step - loss: 0.3942 - accuracy: 0.8917 - val_loss: 0.3780 - val_accuracy: 0.8960\n",
      "Epoch 33/100\n",
      "469/469 [==============================] - 3s 6ms/step - loss: 0.3888 - accuracy: 0.8928 - val_loss: 0.3727 - val_accuracy: 0.8972\n",
      "Epoch 34/100\n",
      "469/469 [==============================] - 3s 6ms/step - loss: 0.3837 - accuracy: 0.8939 - val_loss: 0.3686 - val_accuracy: 0.8974\n",
      "Epoch 35/100\n",
      "469/469 [==============================] - 3s 6ms/step - loss: 0.3789 - accuracy: 0.8948 - val_loss: 0.3635 - val_accuracy: 0.8986\n",
      "Epoch 36/100\n",
      "469/469 [==============================] - 3s 6ms/step - loss: 0.3746 - accuracy: 0.8960 - val_loss: 0.3596 - val_accuracy: 0.8989\n",
      "Epoch 37/100\n",
      "469/469 [==============================] - 3s 7ms/step - loss: 0.3704 - accuracy: 0.8967 - val_loss: 0.3557 - val_accuracy: 0.8998\n",
      "Epoch 38/100\n",
      "469/469 [==============================] - 3s 6ms/step - loss: 0.3665 - accuracy: 0.8977 - val_loss: 0.3517 - val_accuracy: 0.8997\n",
      "Epoch 39/100\n",
      "469/469 [==============================] - 3s 6ms/step - loss: 0.3628 - accuracy: 0.8981 - val_loss: 0.3488 - val_accuracy: 0.9010\n",
      "Epoch 40/100\n",
      "469/469 [==============================] - 3s 7ms/step - loss: 0.3593 - accuracy: 0.8989 - val_loss: 0.3453 - val_accuracy: 0.9013\n",
      "Epoch 41/100\n",
      "469/469 [==============================] - 4s 7ms/step - loss: 0.3560 - accuracy: 0.8995 - val_loss: 0.3419 - val_accuracy: 0.9021\n",
      "Epoch 42/100\n",
      "469/469 [==============================] - 4s 8ms/step - loss: 0.3528 - accuracy: 0.9002 - val_loss: 0.3395 - val_accuracy: 0.9037\n",
      "Epoch 43/100\n",
      "469/469 [==============================] - 4s 8ms/step - loss: 0.3498 - accuracy: 0.9010 - val_loss: 0.3362 - val_accuracy: 0.9044\n",
      "Epoch 44/100\n",
      "469/469 [==============================] - 3s 6ms/step - loss: 0.3470 - accuracy: 0.9019 - val_loss: 0.3336 - val_accuracy: 0.9050\n",
      "Epoch 45/100\n",
      "469/469 [==============================] - 3s 6ms/step - loss: 0.3442 - accuracy: 0.9022 - val_loss: 0.3313 - val_accuracy: 0.9062\n",
      "Epoch 46/100\n",
      "469/469 [==============================] - 3s 6ms/step - loss: 0.3416 - accuracy: 0.9026 - val_loss: 0.3290 - val_accuracy: 0.9065\n",
      "Epoch 47/100\n",
      "469/469 [==============================] - 3s 7ms/step - loss: 0.3391 - accuracy: 0.9031 - val_loss: 0.3267 - val_accuracy: 0.9068\n",
      "Epoch 48/100\n",
      "469/469 [==============================] - 3s 6ms/step - loss: 0.3366 - accuracy: 0.9038 - val_loss: 0.3245 - val_accuracy: 0.9071\n",
      "Epoch 49/100\n",
      "469/469 [==============================] - 3s 6ms/step - loss: 0.3343 - accuracy: 0.9043 - val_loss: 0.3219 - val_accuracy: 0.9081\n",
      "Epoch 50/100\n",
      "469/469 [==============================] - 3s 6ms/step - loss: 0.3321 - accuracy: 0.9048 - val_loss: 0.3204 - val_accuracy: 0.9076\n",
      "Epoch 51/100\n",
      "469/469 [==============================] - 3s 6ms/step - loss: 0.3299 - accuracy: 0.9055 - val_loss: 0.3182 - val_accuracy: 0.9091\n",
      "Epoch 52/100\n",
      "469/469 [==============================] - 3s 7ms/step - loss: 0.3279 - accuracy: 0.9063 - val_loss: 0.3160 - val_accuracy: 0.9089\n",
      "Epoch 53/100\n",
      "469/469 [==============================] - 3s 6ms/step - loss: 0.3257 - accuracy: 0.9068 - val_loss: 0.3144 - val_accuracy: 0.9094\n",
      "Epoch 54/100\n",
      "469/469 [==============================] - 3s 6ms/step - loss: 0.3238 - accuracy: 0.9071 - val_loss: 0.3127 - val_accuracy: 0.9097\n",
      "Epoch 55/100\n",
      "469/469 [==============================] - 3s 6ms/step - loss: 0.3219 - accuracy: 0.9078 - val_loss: 0.3110 - val_accuracy: 0.9100\n",
      "Epoch 56/100\n",
      "469/469 [==============================] - 3s 6ms/step - loss: 0.3201 - accuracy: 0.9081 - val_loss: 0.3092 - val_accuracy: 0.9112\n",
      "Epoch 57/100\n",
      "469/469 [==============================] - 3s 7ms/step - loss: 0.3182 - accuracy: 0.9089 - val_loss: 0.3076 - val_accuracy: 0.9121\n"
     ]
    },
    {
     "name": "stdout",
     "output_type": "stream",
     "text": [
      "Epoch 58/100\n",
      "469/469 [==============================] - 3s 6ms/step - loss: 0.3165 - accuracy: 0.9089 - val_loss: 0.3060 - val_accuracy: 0.9124\n",
      "Epoch 59/100\n",
      "469/469 [==============================] - 3s 6ms/step - loss: 0.3148 - accuracy: 0.9096 - val_loss: 0.3044 - val_accuracy: 0.9121\n",
      "Epoch 60/100\n",
      "469/469 [==============================] - 3s 6ms/step - loss: 0.3132 - accuracy: 0.9101 - val_loss: 0.3027 - val_accuracy: 0.9134\n",
      "Epoch 61/100\n",
      "469/469 [==============================] - 3s 6ms/step - loss: 0.3115 - accuracy: 0.9103 - val_loss: 0.3015 - val_accuracy: 0.9135\n",
      "Epoch 62/100\n",
      "469/469 [==============================] - 3s 6ms/step - loss: 0.3099 - accuracy: 0.9106 - val_loss: 0.2996 - val_accuracy: 0.9136\n",
      "Epoch 63/100\n",
      "469/469 [==============================] - 3s 7ms/step - loss: 0.3085 - accuracy: 0.9113 - val_loss: 0.2988 - val_accuracy: 0.9141\n",
      "Epoch 64/100\n",
      "469/469 [==============================] - 3s 6ms/step - loss: 0.3069 - accuracy: 0.9113 - val_loss: 0.2972 - val_accuracy: 0.9143\n",
      "Epoch 65/100\n",
      "469/469 [==============================] - 3s 6ms/step - loss: 0.3055 - accuracy: 0.9121 - val_loss: 0.2960 - val_accuracy: 0.9143\n",
      "Epoch 66/100\n",
      "469/469 [==============================] - 3s 6ms/step - loss: 0.3040 - accuracy: 0.9125 - val_loss: 0.2948 - val_accuracy: 0.9152\n",
      "Epoch 67/100\n",
      "469/469 [==============================] - 3s 6ms/step - loss: 0.3026 - accuracy: 0.9128 - val_loss: 0.2931 - val_accuracy: 0.9155\n",
      "Epoch 68/100\n",
      "469/469 [==============================] - 3s 7ms/step - loss: 0.3012 - accuracy: 0.9129 - val_loss: 0.2919 - val_accuracy: 0.9155\n",
      "Epoch 69/100\n",
      "469/469 [==============================] - 3s 6ms/step - loss: 0.2998 - accuracy: 0.9133 - val_loss: 0.2909 - val_accuracy: 0.9173\n",
      "Epoch 70/100\n",
      "469/469 [==============================] - 3s 6ms/step - loss: 0.2986 - accuracy: 0.9137 - val_loss: 0.2894 - val_accuracy: 0.9175\n",
      "Epoch 71/100\n",
      "469/469 [==============================] - 3s 6ms/step - loss: 0.2972 - accuracy: 0.9141 - val_loss: 0.2887 - val_accuracy: 0.9171\n",
      "Epoch 72/100\n",
      "469/469 [==============================] - 3s 6ms/step - loss: 0.2960 - accuracy: 0.9143 - val_loss: 0.2875 - val_accuracy: 0.9180\n",
      "Epoch 73/100\n",
      "469/469 [==============================] - 3s 6ms/step - loss: 0.2947 - accuracy: 0.9147 - val_loss: 0.2858 - val_accuracy: 0.9183\n",
      "Epoch 74/100\n",
      "469/469 [==============================] - 3s 7ms/step - loss: 0.2934 - accuracy: 0.9150 - val_loss: 0.2853 - val_accuracy: 0.9191\n",
      "Epoch 75/100\n",
      "469/469 [==============================] - 3s 6ms/step - loss: 0.2922 - accuracy: 0.9150 - val_loss: 0.2842 - val_accuracy: 0.9184\n",
      "Epoch 76/100\n",
      "469/469 [==============================] - 3s 6ms/step - loss: 0.2910 - accuracy: 0.9154 - val_loss: 0.2833 - val_accuracy: 0.9191\n",
      "Epoch 77/100\n",
      "469/469 [==============================] - 3s 6ms/step - loss: 0.2899 - accuracy: 0.9155 - val_loss: 0.2821 - val_accuracy: 0.9190\n",
      "Epoch 78/100\n",
      "469/469 [==============================] - 3s 6ms/step - loss: 0.2887 - accuracy: 0.9161 - val_loss: 0.2812 - val_accuracy: 0.9195\n",
      "Epoch 79/100\n",
      "469/469 [==============================] - 3s 7ms/step - loss: 0.2876 - accuracy: 0.9163 - val_loss: 0.2799 - val_accuracy: 0.9190\n",
      "Epoch 80/100\n",
      "469/469 [==============================] - 3s 6ms/step - loss: 0.2865 - accuracy: 0.9166 - val_loss: 0.2788 - val_accuracy: 0.9196\n",
      "Epoch 81/100\n",
      "469/469 [==============================] - 3s 6ms/step - loss: 0.2854 - accuracy: 0.9170 - val_loss: 0.2780 - val_accuracy: 0.9200\n",
      "Epoch 82/100\n",
      "469/469 [==============================] - 3s 7ms/step - loss: 0.2842 - accuracy: 0.9170 - val_loss: 0.2773 - val_accuracy: 0.9202\n",
      "Epoch 83/100\n",
      "469/469 [==============================] - 3s 7ms/step - loss: 0.2832 - accuracy: 0.9175 - val_loss: 0.2760 - val_accuracy: 0.9210\n",
      "Epoch 84/100\n",
      "469/469 [==============================] - 3s 7ms/step - loss: 0.2821 - accuracy: 0.9179 - val_loss: 0.2754 - val_accuracy: 0.9213\n",
      "Epoch 85/100\n",
      "469/469 [==============================] - 3s 7ms/step - loss: 0.2810 - accuracy: 0.9184 - val_loss: 0.2742 - val_accuracy: 0.9203\n",
      "Epoch 86/100\n",
      "469/469 [==============================] - 3s 6ms/step - loss: 0.2801 - accuracy: 0.9182 - val_loss: 0.2732 - val_accuracy: 0.9216\n",
      "Epoch 87/100\n",
      "469/469 [==============================] - 3s 6ms/step - loss: 0.2790 - accuracy: 0.9188 - val_loss: 0.2724 - val_accuracy: 0.9211\n",
      "Epoch 88/100\n",
      "469/469 [==============================] - 3s 6ms/step - loss: 0.2780 - accuracy: 0.9190 - val_loss: 0.2715 - val_accuracy: 0.9217\n",
      "Epoch 89/100\n",
      "469/469 [==============================] - 3s 6ms/step - loss: 0.2771 - accuracy: 0.9192 - val_loss: 0.2704 - val_accuracy: 0.9222\n",
      "Epoch 90/100\n",
      "469/469 [==============================] - 3s 7ms/step - loss: 0.2761 - accuracy: 0.9196 - val_loss: 0.2696 - val_accuracy: 0.9224\n",
      "Epoch 91/100\n",
      "469/469 [==============================] - 3s 6ms/step - loss: 0.2751 - accuracy: 0.9198 - val_loss: 0.2689 - val_accuracy: 0.9234\n",
      "Epoch 92/100\n",
      "469/469 [==============================] - 3s 6ms/step - loss: 0.2741 - accuracy: 0.9201 - val_loss: 0.2683 - val_accuracy: 0.9224\n",
      "Epoch 93/100\n",
      "469/469 [==============================] - 3s 6ms/step - loss: 0.2731 - accuracy: 0.9204 - val_loss: 0.2676 - val_accuracy: 0.9228\n",
      "Epoch 94/100\n",
      "469/469 [==============================] - 3s 6ms/step - loss: 0.2722 - accuracy: 0.9207 - val_loss: 0.2670 - val_accuracy: 0.9235\n",
      "Epoch 95/100\n",
      "469/469 [==============================] - 3s 7ms/step - loss: 0.2713 - accuracy: 0.9210 - val_loss: 0.2657 - val_accuracy: 0.9233\n",
      "Epoch 96/100\n",
      "469/469 [==============================] - 3s 7ms/step - loss: 0.2703 - accuracy: 0.9216 - val_loss: 0.2648 - val_accuracy: 0.9241\n",
      "Epoch 97/100\n",
      "469/469 [==============================] - 3s 6ms/step - loss: 0.2694 - accuracy: 0.9216 - val_loss: 0.2641 - val_accuracy: 0.9239\n",
      "Epoch 98/100\n",
      "469/469 [==============================] - 3s 6ms/step - loss: 0.2685 - accuracy: 0.9219 - val_loss: 0.2634 - val_accuracy: 0.9237\n",
      "Epoch 99/100\n",
      "469/469 [==============================] - 3s 6ms/step - loss: 0.2676 - accuracy: 0.9221 - val_loss: 0.2622 - val_accuracy: 0.9243\n",
      "Epoch 100/100\n",
      "469/469 [==============================] - 3s 7ms/step - loss: 0.2667 - accuracy: 0.9223 - val_loss: 0.2612 - val_accuracy: 0.9250\n"
     ]
    }
   ],
   "source": [
    "# Adding optimizer\n",
    "# Learning rate --> 0.01\n",
    "sgd = SGD(0.01)\n",
    "\n",
    "# Fitting and training\n",
    "model.compile(loss=\"categorical_crossentropy\", optimizer=sgd, metrics=[\"accuracy\"])\n",
    "H = model.fit(trainX, trainY, validation_data=(testX, testY), epochs=100, batch_size=128)"
   ]
  },
  {
   "cell_type": "code",
   "execution_count": 5,
   "id": "c08341e0",
   "metadata": {},
   "outputs": [
    {
     "name": "stdout",
     "output_type": "stream",
     "text": [
      "Model: \"sequential\"\n",
      "_________________________________________________________________\n",
      " Layer (type)                Output Shape              Param #   \n",
      "=================================================================\n",
      " dense (Dense)               (None, 256)               200960    \n",
      "                                                                 \n",
      " dense_1 (Dense)             (None, 128)               32896     \n",
      "                                                                 \n",
      " dense_2 (Dense)             (None, 10)                1290      \n",
      "                                                                 \n",
      "=================================================================\n",
      "Total params: 235,146\n",
      "Trainable params: 235,146\n",
      "Non-trainable params: 0\n",
      "_________________________________________________________________\n",
      "None\n"
     ]
    }
   ],
   "source": [
    "print(model.summary())"
   ]
  },
  {
   "cell_type": "markdown",
   "id": "718aa27d",
   "metadata": {},
   "source": [
    "### 5. Evaluating the model"
   ]
  },
  {
   "cell_type": "code",
   "execution_count": 6,
   "id": "abc31bab",
   "metadata": {},
   "outputs": [
    {
     "name": "stdout",
     "output_type": "stream",
     "text": [
      "79/79 [==============================] - 0s 4ms/step\n",
      "              precision    recall  f1-score   support\n",
      "\n",
      "           0       0.94      0.98      0.96       980\n",
      "           1       0.97      0.98      0.97      1135\n",
      "           2       0.93      0.91      0.92      1032\n",
      "           3       0.91      0.91      0.91      1010\n",
      "           4       0.92      0.93      0.93       982\n",
      "           5       0.91      0.86      0.88       892\n",
      "           6       0.93      0.95      0.94       958\n",
      "           7       0.93      0.92      0.93      1028\n",
      "           8       0.89      0.90      0.89       974\n",
      "           9       0.91      0.91      0.91      1009\n",
      "\n",
      "    accuracy                           0.93     10000\n",
      "   macro avg       0.92      0.92      0.92     10000\n",
      "weighted avg       0.92      0.93      0.92     10000\n",
      "\n"
     ]
    }
   ],
   "source": [
    "predictions = model.predict(testX, batch_size=128)\n",
    "print(classification_report(testY.argmax(axis=1), predictions.argmax(axis=1), target_names=[str(x) for x in le.classes_]))"
   ]
  },
  {
   "cell_type": "markdown",
   "id": "b7b230e4",
   "metadata": {},
   "source": [
    "### 6. Plotting training loss and accuracy"
   ]
  },
  {
   "cell_type": "code",
   "execution_count": 7,
   "id": "11362553",
   "metadata": {},
   "outputs": [
    {
     "data": {
      "text/plain": [
       "<matplotlib.legend.Legend at 0x2123f76e340>"
      ]
     },
     "execution_count": 7,
     "metadata": {},
     "output_type": "execute_result"
    },
    {
     "data": {
      "image/png": "[encoded data removed]",
      "text/plain": [
       "<Figure size 432x288 with 1 Axes>"
      ]
     },
     "metadata": {},
     "output_type": "display_data"
    }
   ],
   "source": [
    "plt.style.use(\"ggplot\")\n",
    "plt.figure()\n",
    "plt.plot(np.arange(0, 100), H.history[\"loss\"], label=\"train_loss\")\n",
    "plt.plot(np.arange(0, 100), H.history[\"val_loss\"], label=\"val_loss\")\n",
    "plt.plot(np.arange(0, 100), H.history[\"accuracy\"], label=\"train_acc\")\n",
    "plt.plot(np.arange(0, 100), H.history[\"val_accuracy\"], label=\"val_acc\")\n",
    "plt.title(\"Training Loss and Accuracy\")\n",
    "plt.xlabel(\"Epoch #\")\n",
    "plt.ylabel(\"Loss/Accuracy\")\n",
    "plt.legend()"
   ]
  },
  {
   "cell_type": "code",
   "execution_count": null,
   "id": "238a4591",
   "metadata": {},
   "outputs": [],
   "source": []
  }
 ],
 "metadata": {
  "kernelspec": {
   "display_name": "Python 3",
   "language": "python",
   "name": "python3"
  },
  "language_info": {
   "codemirror_mode": {
    "name": "ipython",
    "version": 3
   },
   "file_extension": ".py",
   "mimetype": "text/x-python",
   "name": "python",
   "nbconvert_exporter": "python",
   "pygments_lexer": "ipython3",
   "version": "3.8.8"
  }
 },
 "nbformat": 4,
 "nbformat_minor": 5
}
