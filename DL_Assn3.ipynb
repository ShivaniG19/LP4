{
 "cells": [
  {
   "cell_type": "markdown",
   "id": "85165213",
   "metadata": {},
   "source": [
    "Assignment No.3\n",
    "Name : Shivani Gaikwad\n",
    "Roll No. 43315\n",
    "Batch : P-11"
   ]
  },
  {
   "cell_type": "code",
   "execution_count": 1,
   "id": "f99960b6",
   "metadata": {},
   "outputs": [],
   "source": [
    "import tensorflow as tf\n",
    "import numpy as np\n",
    "import matplotlib.pyplot as plt"
   ]
  },
  {
   "cell_type": "markdown",
   "id": "84247786",
   "metadata": {},
   "source": [
    "### 1. Loading and Preprocessing the image data"
   ]
  },
  {
   "cell_type": "code",
   "execution_count": 2,
   "id": "c85940c5",
   "metadata": {},
   "outputs": [],
   "source": [
    "(x_train, y_train), (x_test, y_test) = tf.keras.datasets.cifar10.load_data()"
   ]
  },
  {
   "cell_type": "code",
   "execution_count": 3,
   "id": "2762f86c",
   "metadata": {},
   "outputs": [
    {
     "name": "stdout",
     "output_type": "stream",
     "text": [
      "train data shape : (50000, 32, 32, 3)\n",
      "label train shape : (50000, 1)\n",
      "test data shape : (10000, 32, 32, 3)\n",
      "label test shape : (10000, 1)\n"
     ]
    }
   ],
   "source": [
    "print(f\"train data shape : {x_train.shape}\")\n",
    "print(f\"label train shape : {y_train.shape}\")\n",
    "print(f\"test data shape : {x_test.shape}\")\n",
    "print(f\"label test shape : {y_test.shape}\")"
   ]
  },
  {
   "cell_type": "code",
   "execution_count": 4,
   "id": "077f2faa",
   "metadata": {},
   "outputs": [
    {
     "data": {
      "text/plain": [
       "array([6], dtype=uint8)"
      ]
     },
     "execution_count": 4,
     "metadata": {},
     "output_type": "execute_result"
    }
   ],
   "source": [
    "y_train[0]"
   ]
  },
  {
   "cell_type": "code",
   "execution_count": 5,
   "id": "91899012",
   "metadata": {},
   "outputs": [],
   "source": [
    "num_classes = 10\n",
    "y_train = tf.keras.utils.to_categorical(y_train, num_classes=num_classes)\n",
    "y_test = tf.keras.utils.to_categorical(y_test, num_classes=num_classes)"
   ]
  },
  {
   "cell_type": "code",
   "execution_count": 6,
   "id": "d02d06e5",
   "metadata": {},
   "outputs": [
    {
     "name": "stdout",
     "output_type": "stream",
     "text": [
      "label train shape : (50000, 10)\n",
      "label test shape : (10000, 10)\n"
     ]
    }
   ],
   "source": [
    "print(f\"label train shape : {y_train.shape}\")\n",
    "print(f\"label test shape : {y_test.shape}\")"
   ]
  },
  {
   "cell_type": "code",
   "execution_count": 7,
   "id": "8cbcb9bc",
   "metadata": {},
   "outputs": [],
   "source": [
    "from tensorflow.keras.preprocessing.image import ImageDataGenerator"
   ]
  },
  {
   "cell_type": "code",
   "execution_count": 8,
   "id": "c65ebd4f",
   "metadata": {},
   "outputs": [],
   "source": [
    "def get_generator_aug():\n",
    "    data_generator_aug = ImageDataGenerator(rescale=(1/255.0), rotation_range=35, width_shift_range=0.3, height_shift_range=0.3, fill_mode='nearest', brightness_range=(0.2, 0.8), shear_range=45.0, horizontal_flip=True, vertical_flip=True, zoom_range=[0.5, 1.5])\n",
    "    return data_generator_aug"
   ]
  },
  {
   "cell_type": "code",
   "execution_count": 10,
   "id": "721b9571",
   "metadata": {},
   "outputs": [],
   "source": [
    "data_generator = ImageDataGenerator(rescale=(1/255.0))\n",
    "data_generator.fit(x_train)\n",
    "img_generator = data_generator.flow(x_train, y_train, batch_size=10, shuffle=False)"
   ]
  },
  {
   "cell_type": "markdown",
   "id": "e4e39831",
   "metadata": {},
   "source": [
    "### 2. Defining model architecture "
   ]
  },
  {
   "cell_type": "code",
   "execution_count": 11,
   "id": "d3524b06",
   "metadata": {},
   "outputs": [],
   "source": [
    "from tensorflow.keras.layers import Input, Conv2D, MaxPooling2D, Flatten, Dense\n",
    "from tensorflow.keras.models import Model"
   ]
  },
  {
   "cell_type": "code",
   "execution_count": 12,
   "id": "75238979",
   "metadata": {},
   "outputs": [],
   "source": [
    "def get_model(input_shape):\n",
    "    input_layer = Input(input_shape)\n",
    "    layer1 = Conv2D(32, 8, activation=\"relu\", padding='SAME')(input_layer)\n",
    "    layer2 = MaxPooling2D((2,2))(layer1)\n",
    "    layer3 = Conv2D(32, 4, activation=\"relu\", padding='SAME')(layer2)\n",
    "    layer4 = MaxPooling2D((2,2))(layer3)\n",
    "    layer5 = Flatten()(layer4)\n",
    "    layer6 = Dense(16, activation=\"relu\")(layer5)\n",
    "    output_layer = Dense(10, activation=\"softmax\")(layer6)\n",
    "    \n",
    "    model = Model(inputs=input_layer, outputs= output_layer)\n",
    "    \n",
    "    model.compile(optimizer=tf.keras.optimizers.Adam(3e-4), loss='categorical_crossentropy', metrics=[tf.keras.metrics.CategoricalAccuracy()])\n",
    "    \n",
    "    return model"
   ]
  },
  {
   "cell_type": "code",
   "execution_count": 13,
   "id": "79a2e2ff",
   "metadata": {},
   "outputs": [
    {
     "name": "stdout",
     "output_type": "stream",
     "text": [
      "Model: \"model\"\n",
      "_________________________________________________________________\n",
      " Layer (type)                Output Shape              Param #   \n",
      "=================================================================\n",
      " input_1 (InputLayer)        [(None, 32, 32, 3)]       0         \n",
      "                                                                 \n",
      " conv2d (Conv2D)             (None, 32, 32, 32)        6176      \n",
      "                                                                 \n",
      " max_pooling2d (MaxPooling2D  (None, 16, 16, 32)       0         \n",
      " )                                                               \n",
      "                                                                 \n",
      " conv2d_1 (Conv2D)           (None, 16, 16, 32)        16416     \n",
      "                                                                 \n",
      " max_pooling2d_1 (MaxPooling  (None, 8, 8, 32)         0         \n",
      " 2D)                                                             \n",
      "                                                                 \n",
      " flatten (Flatten)           (None, 2048)              0         \n",
      "                                                                 \n",
      " dense (Dense)               (None, 16)                32784     \n",
      "                                                                 \n",
      " dense_1 (Dense)             (None, 10)                170       \n",
      "                                                                 \n",
      "=================================================================\n",
      "Total params: 55,546\n",
      "Trainable params: 55,546\n",
      "Non-trainable params: 0\n",
      "_________________________________________________________________\n"
     ]
    }
   ],
   "source": [
    "model = get_model((32, 32, 3))\n",
    "model.summary()"
   ]
  },
  {
   "cell_type": "markdown",
   "id": "f3ca6fef",
   "metadata": {},
   "source": [
    "### 3. Training the model"
   ]
  },
  {
   "cell_type": "code",
   "execution_count": 14,
   "id": "7fa47ae4",
   "metadata": {},
   "outputs": [],
   "source": [
    "from tensorflow.keras.callbacks import EarlyStopping\n",
    "\n",
    "train_steps_per_epoch = img_generator.n"
   ]
  },
  {
   "cell_type": "code",
   "execution_count": 15,
   "id": "b62effd4",
   "metadata": {},
   "outputs": [
    {
     "name": "stdout",
     "output_type": "stream",
     "text": [
      "Epoch 1/50\n",
      " 5000/50000 [==>...........................] - ETA: 19:44 - loss: 1.7033 - categorical_accuracy: 0.3703WARNING:tensorflow:Your input ran out of data; interrupting training. Make sure that your dataset or generator can generate at least `steps_per_epoch * epochs` batches (in this case, 2500000 batches). You may need to use the repeat() function when building your dataset.\n",
      "50000/50000 [==============================] - 220s 4ms/step - loss: 1.7033 - categorical_accuracy: 0.3703 - val_loss: 201.6341 - val_categorical_accuracy: 0.4260\n"
     ]
    }
   ],
   "source": [
    "history = model.fit(img_generator, steps_per_epoch=train_steps_per_epoch, validation_data=(x_test, y_test), epochs=50, callbacks=[EarlyStopping(monitor='val_categorical_accuracy', patience=5)])"
   ]
  },
  {
   "cell_type": "markdown",
   "id": "2c7d2206",
   "metadata": {},
   "source": [
    "### 4. Evaluating the performance"
   ]
  },
  {
   "cell_type": "code",
   "execution_count": 16,
   "id": "023b03ce",
   "metadata": {},
   "outputs": [],
   "source": [
    "from sklearn.metrics import accuracy_score"
   ]
  },
  {
   "cell_type": "code",
   "execution_count": 17,
   "id": "2f6575db",
   "metadata": {},
   "outputs": [],
   "source": [
    "y_pred = model.predict(x_test)"
   ]
  },
  {
   "cell_type": "code",
   "execution_count": 18,
   "id": "1cceecf2",
   "metadata": {},
   "outputs": [],
   "source": [
    "y_pred = np.argmax(y_pred, axis=1)"
   ]
  },
  {
   "cell_type": "code",
   "execution_count": 19,
   "id": "5ae34368",
   "metadata": {},
   "outputs": [],
   "source": [
    "y_test = np.argmax(y_test, axis=1)"
   ]
  },
  {
   "cell_type": "code",
   "execution_count": 20,
   "id": "e5644b9d",
   "metadata": {},
   "outputs": [
    {
     "name": "stdout",
     "output_type": "stream",
     "text": [
      "0.426\n"
     ]
    }
   ],
   "source": [
    "print(accuracy_score(y_test, y_pred))"
   ]
  },
  {
   "cell_type": "code",
   "execution_count": null,
   "id": "e26f4cbb",
   "metadata": {},
   "outputs": [],
   "source": []
  }
 ],
 "metadata": {
  "kernelspec": {
   "display_name": "Python 3",
   "language": "python",
   "name": "python3"
  },
  "language_info": {
   "codemirror_mode": {
    "name": "ipython",
    "version": 3
   },
   "file_extension": ".py",
   "mimetype": "text/x-python",
   "name": "python",
   "nbconvert_exporter": "python",
   "pygments_lexer": "ipython3",
   "version": "3.8.8"
  }
 },
 "nbformat": 4,
 "nbformat_minor": 5
}
