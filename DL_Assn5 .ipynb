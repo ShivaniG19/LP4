{
 "cells": [
  {
   "cell_type": "markdown",
   "id": "887cb2cc",
   "metadata": {},
   "source": [
    "Assignment No.5\n",
    "Name : Shivani Gaikwad\n",
    "Roll No. 43315\n",
    "Batch : P-11"
   ]
  },
  {
   "cell_type": "markdown",
   "id": "90a8b8ea",
   "metadata": {},
   "source": [
    "### 1. Import following libraries gensim and numpy set i.e. text file created . It should be preprocessed. "
   ]
  },
  {
   "cell_type": "code",
   "execution_count": 3,
   "id": "3fe72ee8",
   "metadata": {},
   "outputs": [
    {
     "name": "stdout",
     "output_type": "stream",
     "text": [
      "Collecting gensim\n",
      "Note: you may need to restart the kernel to use updated packages.  Using cached gensim-4.2.0-cp38-cp38-win_amd64.whl (24.0 MB)\n",
      "Requirement already satisfied: numpy>=1.17.0 in f:\\anacondasetup\\lib\\site-packages (from gensim) (1.20.1)\n",
      "Requirement already satisfied: Cython==0.29.28 in f:\\anacondasetup\\lib\\site-packages (from gensim) (0.29.28)\n",
      "Requirement already satisfied: smart-open>=1.8.1 in f:\\anacondasetup\\lib\\site-packages (from gensim) (6.2.0)\n",
      "Requirement already satisfied: scipy>=0.18.1 in f:\\anacondasetup\\lib\\site-packages (from gensim) (1.6.2)\n",
      "Installing collected packages: gensim\n",
      "Successfully installed gensim-4.2.0\n",
      "\n"
     ]
    }
   ],
   "source": [
    "pip install -U gensim"
   ]
  },
  {
   "cell_type": "code",
   "execution_count": 4,
   "id": "3846924d",
   "metadata": {},
   "outputs": [],
   "source": [
    "import numpy as np\n",
    "import keras.backend as K\n",
    "from keras.models import Sequential\n",
    "from keras.layers import Dense, Embedding, Lambda\n",
    "from keras.utils import np_utils\n",
    "from keras.preprocessing import sequence\n",
    "from keras.preprocessing.text import Tokenizer\n",
    "import gensim"
   ]
  },
  {
   "cell_type": "markdown",
   "id": "5412cb41",
   "metadata": {},
   "source": [
    "### 2. Tokenize the every word from the paragraph . You can call in built tokenizer present in Gensim"
   ]
  },
  {
   "cell_type": "code",
   "execution_count": 7,
   "id": "1cd46bb5",
   "metadata": {},
   "outputs": [],
   "source": [
    "data = open('C:/Users/hp/Downloads/LP-IV Lab (Deep Learning)/covid.txt', 'r')\n",
    "corona_data = [text for text in data if text.count(' ') >= 2]\n",
    "vectorize = Tokenizer()"
   ]
  },
  {
   "cell_type": "markdown",
   "id": "6b8886b3",
   "metadata": {},
   "source": [
    "### 3. Fit the data to tokenizer"
   ]
  },
  {
   "cell_type": "code",
   "execution_count": 8,
   "id": "f345eee9",
   "metadata": {},
   "outputs": [],
   "source": [
    "vectorize.fit_on_texts(corona_data)\n",
    "corona_data = vectorize.texts_to_sequences(corona_data)"
   ]
  },
  {
   "cell_type": "markdown",
   "id": "a4bfdfd5",
   "metadata": {},
   "source": [
    "### 4. Find total no of words and total no of sentences"
   ]
  },
  {
   "cell_type": "code",
   "execution_count": 9,
   "id": "ba8ebe5e",
   "metadata": {},
   "outputs": [],
   "source": [
    "total_vocab = sum(len(s) for s in corona_data)\n",
    "word_count = len(vectorize.word_index) + 1\n",
    "window_size = 2"
   ]
  },
  {
   "cell_type": "markdown",
   "id": "c305e6d9",
   "metadata": {},
   "source": [
    "### 5. Generate the pairs of Context words and target words "
   ]
  },
  {
   "cell_type": "code",
   "execution_count": 10,
   "id": "b594c78b",
   "metadata": {},
   "outputs": [],
   "source": [
    "def cbow_model(data, window_size, total_vocab):\n",
    "    total_length = window_size * 2\n",
    "    for text in data:\n",
    "        text_len = len(text)\n",
    "        for idx, word in enumerate(text):\n",
    "            context_word = []\n",
    "            target = []\n",
    "            begin = idx - window_size\n",
    "            end = idx + window_size + 1\n",
    "            context_word.append([text[i] for i in range(begin, end) if 0 <= i < text_len and i != idx])\n",
    "            target.append(word)\n",
    "            contextual = sequence.pad_sequences(context_word, total_length=total_length)\n",
    "            final_target = np_utils.to_categorical(target, total_vocab)\n",
    "            yield(contextual, final_target)"
   ]
  },
  {
   "cell_type": "markdown",
   "id": "bbafd9dd",
   "metadata": {},
   "source": [
    "### 6. Create Neural Network model with following parameters:\n",
    "Model type : sequential\n",
    "Layers : Dense , Lambda , embedding. Compile\n",
    "Options : (loss='categorical_crossentropy', optimizer='adam') "
   ]
  },
  {
   "cell_type": "code",
   "execution_count": 11,
   "id": "5ce65a54",
   "metadata": {},
   "outputs": [
    {
     "name": "stdout",
     "output_type": "stream",
     "text": [
      "0 0\n",
      "1 0\n",
      "2 0\n",
      "3 0\n",
      "4 0\n",
      "5 0\n",
      "6 0\n",
      "7 0\n",
      "8 0\n",
      "9 0\n"
     ]
    }
   ],
   "source": [
    "model = Sequential()\n",
    "model.add(Embedding(input_dim=total_vocab, output_dim=100, input_length=window_size*2))\n",
    "model.add(Lambda(lambda x : K.mean(x, axis=1), output_shape=(100,)))\n",
    "model.add(Dense(total_vocab, activation='softmax'))\n",
    "model.compile(loss='categorical_crossentropy', optimizer = 'adam')\n",
    "for i in range(10):\n",
    "    cost = 0\n",
    "    for x, y in cbow_model(data, window_size, total_vocab):\n",
    "        cost += model.train_on_batch(contextual, final_target)\n",
    "    print(i, cost)"
   ]
  },
  {
   "cell_type": "markdown",
   "id": "d04dac7f",
   "metadata": {},
   "source": [
    "### 7. Create vector file of some word for testing"
   ]
  },
  {
   "cell_type": "code",
   "execution_count": 13,
   "id": "acaa0549",
   "metadata": {},
   "outputs": [
    {
     "data": {
      "text/plain": [
       "8"
      ]
     },
     "execution_count": 13,
     "metadata": {},
     "output_type": "execute_result"
    }
   ],
   "source": [
    "dimensions = 100\n",
    "vect_file = open('C:/Users/hp/Downloads/LP-IV Lab (Deep Learning)/vectors.txt', 'w')\n",
    "vect_file.write('{} {}\\n'.format(total_vocab, dimensions))"
   ]
  },
  {
   "cell_type": "markdown",
   "id": "e0eab6f7",
   "metadata": {},
   "source": [
    "### 8. Assign weights to your trained model "
   ]
  },
  {
   "cell_type": "code",
   "execution_count": 14,
   "id": "9d3808e9",
   "metadata": {},
   "outputs": [],
   "source": [
    "weigths = model.get_weights()[0]\n",
    "for text, i in vectorize.word_index.items():\n",
    "    final_vec = ' '.join(map(str, list(weigths[i, :])))\n",
    "    vect_file.write('{} {}\\n'.format(text, final_vec))\n",
    "vect_file.close()"
   ]
  },
  {
   "cell_type": "markdown",
   "id": "721737b3",
   "metadata": {},
   "source": [
    "### 9. Use the vectors created in Gemsim"
   ]
  },
  {
   "cell_type": "code",
   "execution_count": 16,
   "id": "cce7076f",
   "metadata": {},
   "outputs": [],
   "source": [
    "cbow_output = gensim.models.KeyedVectors.load_word2vec_format('C:/Users/hp/Downloads/LP-IV Lab (Deep Learning)/vectors.txt', binary=False, limit=100)"
   ]
  },
  {
   "cell_type": "markdown",
   "id": "c748cc8e",
   "metadata": {},
   "source": [
    "### 10. choose the word to get similar type of words"
   ]
  },
  {
   "cell_type": "code",
   "execution_count": 19,
   "id": "fb630974",
   "metadata": {},
   "outputs": [
    {
     "data": {
      "text/plain": [
       "[('can', 0.28823187947273254),\n",
       " ('context', 0.2404625564813614),\n",
       " ('one', 0.2138516753911972),\n",
       " ('a', 0.21097348630428314),\n",
       " ('specific', 0.1929675191640854),\n",
       " ('viruses', 0.1822327971458435),\n",
       " ('of', 0.1768723428249359),\n",
       " ('contrast', 0.16680879890918732),\n",
       " ('serial', 0.16573864221572876),\n",
       " ('important', 0.1632171869277954)]"
      ]
     },
     "execution_count": 19,
     "metadata": {},
     "output_type": "execute_result"
    }
   ],
   "source": [
    "cbow_output.most_similar(positive=['virus'])"
   ]
  },
  {
   "cell_type": "code",
   "execution_count": null,
   "id": "718d29ce",
   "metadata": {},
   "outputs": [],
   "source": []
  }
 ],
 "metadata": {
  "kernelspec": {
   "display_name": "Python 3",
   "language": "python",
   "name": "python3"
  },
  "language_info": {
   "codemirror_mode": {
    "name": "ipython",
    "version": 3
   },
   "file_extension": ".py",
   "mimetype": "text/x-python",
   "name": "python",
   "nbconvert_exporter": "python",
   "pygments_lexer": "ipython3",
   "version": "3.8.8"
  }
 },
 "nbformat": 4,
 "nbformat_minor": 5
}
